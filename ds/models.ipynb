{
 "cells": [
  {
   "cell_type": "code",
   "execution_count": 1,
   "metadata": {
    "collapsed": true
   },
   "outputs": [
    {
     "name": "stdout",
     "output_type": "stream",
     "text": [
      "Hello world\n"
     ]
    }
   ],
   "source": [
    "import math\n",
    "from pprint import pprint\n",
    "\n",
    "print(\"Hello world\")\n",
    "\n",
    "import sympy as sy\n",
    "import pandas as pd\n",
    "import numpy as np\n",
    "\n",
    "import matplotlib\n",
    "import matplotlib.pyplot as plt\n",
    "\n",
    "from tqdm.notebook import tqdm"
   ]
  },
  {
   "cell_type": "code",
   "execution_count": 2,
   "metadata": {},
   "outputs": [
    {
     "name": "stdout",
     "output_type": "stream",
     "text": [
      "cte_norm.json                           СТЕ_Иркутск.xlsx\n",
      "model.py                                Контракты_Иркутск.xlsx\n",
      "models.ipynb\n"
     ]
    }
   ],
   "source": [
    "ls"
   ]
  },
  {
   "cell_type": "code",
   "execution_count": 3,
   "metadata": {},
   "outputs": [],
   "source": [
    "cte_df = pd.read_excel(\"СТЕ_Иркутск.xlsx\")\n",
    "kontr_df = pd.read_excel(\"Контракты_Иркутск.xlsx\")"
   ]
  },
  {
   "cell_type": "code",
   "execution_count": 4,
   "metadata": {},
   "outputs": [
    {
     "data": {
      "text/html": [
       "<div>\n",
       "<style scoped>\n",
       "    .dataframe tbody tr th:only-of-type {\n",
       "        vertical-align: middle;\n",
       "    }\n",
       "\n",
       "    .dataframe tbody tr th {\n",
       "        vertical-align: top;\n",
       "    }\n",
       "\n",
       "    .dataframe thead th {\n",
       "        text-align: right;\n",
       "    }\n",
       "</style>\n",
       "<table border=\"1\" class=\"dataframe\">\n",
       "  <thead>\n",
       "    <tr style=\"text-align: right;\">\n",
       "      <th></th>\n",
       "      <th>ID СТЕ</th>\n",
       "      <th>Название СТЕ</th>\n",
       "      <th>Категория</th>\n",
       "      <th>Код КПГЗ</th>\n",
       "      <th>Характеристики</th>\n",
       "    </tr>\n",
       "  </thead>\n",
       "  <tbody>\n",
       "    <tr>\n",
       "      <th>0</th>\n",
       "      <td>1153097</td>\n",
       "      <td>мяч футбольный MIKASA REGATEADOR5-G</td>\n",
       "      <td>Мячи футбольные</td>\n",
       "      <td>01.08.01.13.01</td>\n",
       "      <td>[{\"Name\":\"Модель\",\"Id\":283795036,\"Value\":\"REGA...</td>\n",
       "    </tr>\n",
       "    <tr>\n",
       "      <th>1</th>\n",
       "      <td>1153130</td>\n",
       "      <td>мяч волейбольный Gala Pro-Line 10 FIVB</td>\n",
       "      <td>Мячи волейбольные</td>\n",
       "      <td>01.08.01.14.03.01</td>\n",
       "      <td>[{\"Name\":\"Марка\",\"Id\":284249992,\"Value\":\"Gala\"...</td>\n",
       "    </tr>\n",
       "    <tr>\n",
       "      <th>2</th>\n",
       "      <td>1153163</td>\n",
       "      <td>мяч волейбольный Mikasa MVA380K-OBL</td>\n",
       "      <td>Мячи волейбольные</td>\n",
       "      <td>01.08.01.14.03.01</td>\n",
       "      <td>[{\"Name\":\"Марка\",\"Id\":284249802,\"Value\":\"MIKAS...</td>\n",
       "    </tr>\n",
       "    <tr>\n",
       "      <th>3</th>\n",
       "      <td>1153174</td>\n",
       "      <td>мяч волейбольный Wilson Super Soft Play</td>\n",
       "      <td>Мячи волейбольные</td>\n",
       "      <td>01.08.01.14.03.01</td>\n",
       "      <td>[{\"Name\":\"Марка\",\"Id\":284246959,\"Value\":\"WILSO...</td>\n",
       "    </tr>\n",
       "    <tr>\n",
       "      <th>4</th>\n",
       "      <td>1159300</td>\n",
       "      <td>Gutrend комплект расходных материалов для FUN ...</td>\n",
       "      <td>Расходные материалы, комплектующие для прочего...</td>\n",
       "      <td>01.20.10.99</td>\n",
       "      <td>[{\"Name\":\"Тип\",\"Id\":284280400,\"Value\":\"Расходн...</td>\n",
       "    </tr>\n",
       "  </tbody>\n",
       "</table>\n",
       "</div>"
      ],
      "text/plain": [
       "    ID СТЕ                                       Название СТЕ  \\\n",
       "0  1153097                мяч футбольный MIKASA REGATEADOR5-G   \n",
       "1  1153130             мяч волейбольный Gala Pro-Line 10 FIVB   \n",
       "2  1153163                мяч волейбольный Mikasa MVA380K-OBL   \n",
       "3  1153174            мяч волейбольный Wilson Super Soft Play   \n",
       "4  1159300  Gutrend комплект расходных материалов для FUN ...   \n",
       "\n",
       "                                           Категория           Код КПГЗ  \\\n",
       "0                                    Мячи футбольные     01.08.01.13.01   \n",
       "1                                 Мячи волейбольные   01.08.01.14.03.01   \n",
       "2                                 Мячи волейбольные   01.08.01.14.03.01   \n",
       "3                                 Мячи волейбольные   01.08.01.14.03.01   \n",
       "4  Расходные материалы, комплектующие для прочего...        01.20.10.99   \n",
       "\n",
       "                                      Характеристики  \n",
       "0  [{\"Name\":\"Модель\",\"Id\":283795036,\"Value\":\"REGA...  \n",
       "1  [{\"Name\":\"Марка\",\"Id\":284249992,\"Value\":\"Gala\"...  \n",
       "2  [{\"Name\":\"Марка\",\"Id\":284249802,\"Value\":\"MIKAS...  \n",
       "3  [{\"Name\":\"Марка\",\"Id\":284246959,\"Value\":\"WILSO...  \n",
       "4  [{\"Name\":\"Тип\",\"Id\":284280400,\"Value\":\"Расходн...  "
      ]
     },
     "execution_count": 4,
     "metadata": {},
     "output_type": "execute_result"
    }
   ],
   "source": [
    "cte_df.head()"
   ]
  },
  {
   "cell_type": "code",
   "execution_count": 5,
   "metadata": {},
   "outputs": [],
   "source": [
    "cte_cols = cte_df.columns"
   ]
  },
  {
   "cell_type": "code",
   "execution_count": 6,
   "metadata": {},
   "outputs": [],
   "source": [
    "import json"
   ]
  },
  {
   "cell_type": "code",
   "execution_count": 7,
   "metadata": {},
   "outputs": [
    {
     "data": {
      "application/vnd.jupyter.widget-view+json": {
       "model_id": "30b18ad0a9b948a084ec7c9396dbeb84",
       "version_major": 2,
       "version_minor": 0
      },
      "text/plain": [
       "  0%|          | 0/356575 [00:00<?, ?it/s]"
      ]
     },
     "metadata": {},
     "output_type": "display_data"
    }
   ],
   "source": [
    "data = []\n",
    "\n",
    "with tqdm(total=len(cte_df)) as pbar:\n",
    "    for label, row in cte_df.iterrows():\n",
    "        new_row = {}\n",
    "        for col, val in zip(cte_cols, row[:-1]):\n",
    "            new_row[col] = val\n",
    "        try:\n",
    "            param_list = json.loads(row[-1])\n",
    "            for param_d in param_list:\n",
    "                new_row[param_d['Name']] = param_d['Value']\n",
    "        except Exception as e:\n",
    "            #print(e)\n",
    "            pass\n",
    "        data.append(new_row)\n",
    "        pbar.update()\n"
   ]
  },
  {
   "cell_type": "code",
   "execution_count": 12,
   "metadata": {},
   "outputs": [],
   "source": [
    "import pickle"
   ]
  },
  {
   "cell_type": "code",
   "execution_count": 15,
   "metadata": {},
   "outputs": [],
   "source": [
    "pickle.dump(data, open('cte_norm.pickle', 'wb'))"
   ]
  },
  {
   "cell_type": "code",
   "execution_count": 8,
   "metadata": {},
   "outputs": [],
   "source": [
    "json.dump(data, open('cte_norm.json', 'w'))"
   ]
  },
  {
   "cell_type": "code",
   "execution_count": 7,
   "metadata": {},
   "outputs": [
    {
     "data": {
      "text/html": [
       "<div>\n",
       "<style scoped>\n",
       "    .dataframe tbody tr th:only-of-type {\n",
       "        vertical-align: middle;\n",
       "    }\n",
       "\n",
       "    .dataframe tbody tr th {\n",
       "        vertical-align: top;\n",
       "    }\n",
       "\n",
       "    .dataframe thead th {\n",
       "        text-align: right;\n",
       "    }\n",
       "</style>\n",
       "<table border=\"1\" class=\"dataframe\">\n",
       "  <thead>\n",
       "    <tr style=\"text-align: right;\">\n",
       "      <th></th>\n",
       "      <th>Номер контракта</th>\n",
       "      <th>Дата публикации КС на ПП</th>\n",
       "      <th>Дата заключения контракта</th>\n",
       "      <th>Цена контракта</th>\n",
       "      <th>ИНН заказчика</th>\n",
       "      <th>КПП заказчика</th>\n",
       "      <th>Наименование заказчика</th>\n",
       "      <th>ИНН поставщика</th>\n",
       "      <th>КПП поставщика</th>\n",
       "      <th>Наименование поставщика</th>\n",
       "      <th>СТЕ</th>\n",
       "    </tr>\n",
       "  </thead>\n",
       "  <tbody>\n",
       "    <tr>\n",
       "      <th>0</th>\n",
       "      <td>10/2019-СГЗ</td>\n",
       "      <td>2019-06-13 17:07:08.753</td>\n",
       "      <td>2019-06-18</td>\n",
       "      <td>21970.00</td>\n",
       "      <td>7709043455</td>\n",
       "      <td>770901001</td>\n",
       "      <td>ГОСУДАРСТВЕННОЕ БЮДЖЕТНОЕ УЧРЕЖДЕНИЕ ДОПОЛНИТЕ...</td>\n",
       "      <td>5009062762</td>\n",
       "      <td>500901001.0</td>\n",
       "      <td>ООО \"ОФИСМАГ\"</td>\n",
       "      <td>[{\"Id\":1226040,\"Quantity\":100.00000,\"Amount\":2...</td>\n",
       "    </tr>\n",
       "    <tr>\n",
       "      <th>1</th>\n",
       "      <td>642-МЗ-44/19</td>\n",
       "      <td>2019-06-13 10:46:31.197</td>\n",
       "      <td>2019-06-18</td>\n",
       "      <td>85312.00</td>\n",
       "      <td>7719047184</td>\n",
       "      <td>771901001</td>\n",
       "      <td>ГОСУДАРСТВЕННОЕ БЮДЖЕТНОЕ УЧРЕЖДЕНИЕ ЗДРАВООХР...</td>\n",
       "      <td>7725696613</td>\n",
       "      <td>772501001.0</td>\n",
       "      <td>ОБЩЕСТВО С ОГРАНИЧЕННОЙ ОТВЕТСТВЕННОСТЬЮ \"МОСНАБ\"</td>\n",
       "      <td>[{\"Id\":null,\"Quantity\":4.00000,\"Amount\":42656....</td>\n",
       "    </tr>\n",
       "    <tr>\n",
       "      <th>2</th>\n",
       "      <td>74-19</td>\n",
       "      <td>2019-06-13 15:34:06.630</td>\n",
       "      <td>2019-06-18</td>\n",
       "      <td>26638.34</td>\n",
       "      <td>7727597777</td>\n",
       "      <td>772701001</td>\n",
       "      <td>ГОСУДАРСТВЕННОЕ БЮДЖЕТНОЕ УЧРЕЖДЕНИЕ ГОРОДА МО...</td>\n",
       "      <td>7724456672</td>\n",
       "      <td>772401001.0</td>\n",
       "      <td>ООО \"Жизнь офиса\"</td>\n",
       "      <td>[{\"Id\":null,\"Quantity\":1.00000,\"Amount\":26638....</td>\n",
       "    </tr>\n",
       "    <tr>\n",
       "      <th>3</th>\n",
       "      <td>И-1200/19</td>\n",
       "      <td>2019-06-11 15:07:29.147</td>\n",
       "      <td>2019-06-18</td>\n",
       "      <td>82386.00</td>\n",
       "      <td>7714338609</td>\n",
       "      <td>771401001</td>\n",
       "      <td>ГОСУДАРСТВЕННОЕ КАЗЕННОЕ УЧРЕЖДЕНИЕ ГОРОДА МОС...</td>\n",
       "      <td>503224250310</td>\n",
       "      <td>NaN</td>\n",
       "      <td>Индивидуальный предприниматель Кручинина Екате...</td>\n",
       "      <td>[{\"Id\":1405814,\"Quantity\":120.00000,\"Amount\":8...</td>\n",
       "    </tr>\n",
       "    <tr>\n",
       "      <th>4</th>\n",
       "      <td>639-МЗ-44/19</td>\n",
       "      <td>2019-06-13 10:55:03.087</td>\n",
       "      <td>2019-06-18</td>\n",
       "      <td>28362.00</td>\n",
       "      <td>7719047184</td>\n",
       "      <td>771901001</td>\n",
       "      <td>ГОСУДАРСТВЕННОЕ БЮДЖЕТНОЕ УЧРЕЖДЕНИЕ ЗДРАВООХР...</td>\n",
       "      <td>7706771569</td>\n",
       "      <td>772701001.0</td>\n",
       "      <td>ООО \"ПРИНСИПАЛ-БМ\"</td>\n",
       "      <td>[{\"Id\":null,\"Quantity\":300.00000,\"Amount\":2836...</td>\n",
       "    </tr>\n",
       "  </tbody>\n",
       "</table>\n",
       "</div>"
      ],
      "text/plain": [
       "  Номер контракта Дата публикации КС на ПП Дата заключения контракта  \\\n",
       "0     10/2019-СГЗ  2019-06-13 17:07:08.753                2019-06-18   \n",
       "1    642-МЗ-44/19  2019-06-13 10:46:31.197                2019-06-18   \n",
       "2           74-19  2019-06-13 15:34:06.630                2019-06-18   \n",
       "3       И-1200/19  2019-06-11 15:07:29.147                2019-06-18   \n",
       "4    639-МЗ-44/19  2019-06-13 10:55:03.087                2019-06-18   \n",
       "\n",
       "   Цена контракта  ИНН заказчика  КПП заказчика  \\\n",
       "0        21970.00     7709043455      770901001   \n",
       "1        85312.00     7719047184      771901001   \n",
       "2        26638.34     7727597777      772701001   \n",
       "3        82386.00     7714338609      771401001   \n",
       "4        28362.00     7719047184      771901001   \n",
       "\n",
       "                              Наименование заказчика  ИНН поставщика  \\\n",
       "0  ГОСУДАРСТВЕННОЕ БЮДЖЕТНОЕ УЧРЕЖДЕНИЕ ДОПОЛНИТЕ...      5009062762   \n",
       "1  ГОСУДАРСТВЕННОЕ БЮДЖЕТНОЕ УЧРЕЖДЕНИЕ ЗДРАВООХР...      7725696613   \n",
       "2  ГОСУДАРСТВЕННОЕ БЮДЖЕТНОЕ УЧРЕЖДЕНИЕ ГОРОДА МО...      7724456672   \n",
       "3  ГОСУДАРСТВЕННОЕ КАЗЕННОЕ УЧРЕЖДЕНИЕ ГОРОДА МОС...    503224250310   \n",
       "4  ГОСУДАРСТВЕННОЕ БЮДЖЕТНОЕ УЧРЕЖДЕНИЕ ЗДРАВООХР...      7706771569   \n",
       "\n",
       "   КПП поставщика                            Наименование поставщика  \\\n",
       "0     500901001.0                                      ООО \"ОФИСМАГ\"   \n",
       "1     772501001.0  ОБЩЕСТВО С ОГРАНИЧЕННОЙ ОТВЕТСТВЕННОСТЬЮ \"МОСНАБ\"   \n",
       "2     772401001.0                                  ООО \"Жизнь офиса\"   \n",
       "3             NaN  Индивидуальный предприниматель Кручинина Екате...   \n",
       "4     772701001.0                                 ООО \"ПРИНСИПАЛ-БМ\"   \n",
       "\n",
       "                                                 СТЕ  \n",
       "0  [{\"Id\":1226040,\"Quantity\":100.00000,\"Amount\":2...  \n",
       "1  [{\"Id\":null,\"Quantity\":4.00000,\"Amount\":42656....  \n",
       "2  [{\"Id\":null,\"Quantity\":1.00000,\"Amount\":26638....  \n",
       "3  [{\"Id\":1405814,\"Quantity\":120.00000,\"Amount\":8...  \n",
       "4  [{\"Id\":null,\"Quantity\":300.00000,\"Amount\":2836...  "
      ]
     },
     "execution_count": 7,
     "metadata": {},
     "output_type": "execute_result"
    }
   ],
   "source": [
    "kontr_df.head()"
   ]
  },
  {
   "cell_type": "code",
   "execution_count": 10,
   "metadata": {},
   "outputs": [
    {
     "data": {
      "text/plain": [
       "[{'Id': 1226040, 'Quantity': 100.0, 'Amount': 21970.0}]"
      ]
     },
     "execution_count": 10,
     "metadata": {},
     "output_type": "execute_result"
    }
   ],
   "source": [
    "json.loads(kontr_df.iloc[:,-1][0])"
   ]
  },
  {
   "cell_type": "code",
   "execution_count": null,
   "metadata": {},
   "outputs": [],
   "source": [
    "data = []\n",
    "\n",
    "kontr_cols = kontr_df.columns\n",
    "with tqdm(total=len(kontr_df)) as pbar:\n",
    "    for label, row in kontr_df.iterrows():\n",
    "        new_row = {}\n",
    "        for col, val in zip(kontr_cols, row[:-1]):\n",
    "            new_row[col] = val\n",
    "        try:\n",
    "            param_list = json.loads(row[-1])\n",
    "            for param_d in param_list:\n",
    "                new_row[param_d['Name']] = param_d['Value']\n",
    "        except Exception as e:\n",
    "            #print(e)\n",
    "            pass\n",
    "        data.append(new_row)\n",
    "        pbar.update()"
   ]
  },
  {
   "cell_type": "code",
   "execution_count": 4,
   "metadata": {},
   "outputs": [],
   "source": [
    "labels = np.load('labels.npy', allow_pickle=True)\n"
   ]
  }
 ],
 "metadata": {
  "kernelspec": {
   "display_name": "Python (miniconda)",
   "language": "python",
   "name": "miniconda-env"
  },
  "language_info": {
   "codemirror_mode": {
    "name": "ipython",
    "version": 3
   },
   "file_extension": ".py",
   "mimetype": "text/x-python",
   "name": "python",
   "nbconvert_exporter": "python",
   "pygments_lexer": "ipython3",
   "version": "3.9.10"
  },
  "vscode": {
   "interpreter": {
    "hash": "aee8b7b246df8f9039afb4144a1f6fd8d2ca17a180786b69acc140d282b71a49"
   }
  }
 },
 "nbformat": 4,
 "nbformat_minor": 0
}
